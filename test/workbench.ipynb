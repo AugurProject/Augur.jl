{
 "metadata": {
  "language": "Julia",
  "name": "",
  "signature": "sha256:888b8007bfeb3097370c4438cf383b2dd1a000896d463e430e9a7077f1d4b126"
 },
 "nbformat": 3,
 "nbformat_minor": 0,
 "worksheets": [
  {
   "cells": [
    {
     "cell_type": "code",
     "collapsed": false,
     "input": [
      "reload(\"repl.jl\");"
     ],
     "language": "python",
     "metadata": {},
     "outputs": []
    },
    {
     "cell_type": "code",
     "collapsed": false,
     "input": [
      "xdump(sim)"
     ],
     "language": "python",
     "metadata": {},
     "outputs": []
    },
    {
     "cell_type": "code",
     "collapsed": false,
     "input": [
      "(data[:num_trues], data[:num_liars])"
     ],
     "language": "python",
     "metadata": {},
     "outputs": []
    },
    {
     "cell_type": "code",
     "collapsed": false,
     "input": [
      "(println(\"trues: \", repr(round(tokens[:trues]*100,6)) * \"%\"),\n",
      " println(\"liars: \", repr(round(tokens[:liars]*100,6)) * \"%\"));"
     ],
     "language": "python",
     "metadata": {},
     "outputs": []
    },
    {
     "cell_type": "code",
     "collapsed": false,
     "input": [
      "tokens"
     ],
     "language": "python",
     "metadata": {},
     "outputs": []
    },
    {
     "cell_type": "code",
     "collapsed": false,
     "input": [
      "using PyPlot;"
     ],
     "language": "python",
     "metadata": {},
     "outputs": []
    },
    {
     "cell_type": "code",
     "collapsed": false,
     "input": [
      "subplot(221);\n",
      "contourf(mean_repdelta[\"fixed-variance\"], origin=\"upper\");\n",
      "title(\"fixed-variance\");\n",
      "ylabel(\"reporter\");\n",
      "\n",
      "subplot(222);\n",
      "colorbar(contourf(mean_repdelta[\"big-five\"], origin=\"upper\"));\n",
      "title(\"big-five\");\n",
      "\n",
      "subplot(223);\n",
      "contourf(mean_repdelta[\"sztorc\"], origin=\"upper\");\n",
      "title(\"sztorc\");\n",
      "xlabel(\"reporting round\");\n",
      "ylabel(\"reporter\");\n",
      "\n",
      "subplot(224);\n",
      "colorbar(contourf(mean_repdelta[\"absolute\"], origin=\"upper\"));\n",
      "title(\"absolute\");\n",
      "xlabel(\"reporting round\");"
     ],
     "language": "python",
     "metadata": {},
     "outputs": []
    },
    {
     "cell_type": "code",
     "collapsed": false,
     "input": [
      "fig = figure();\n",
      "\n",
      "subplot(221);\n",
      "metric = :MCC;\n",
      "plot(\n",
      "    1:sim.TIMESTEPS, mean(track[\"sztorc\"][metric], 2),\n",
      "    1:sim.TIMESTEPS, mean(track[\"big-five\"][metric], 2),\n",
      "    1:sim.TIMESTEPS, mean(track[\"fixed-variance\"][metric], 2),\n",
      "    1:sim.TIMESTEPS, mean(track[\"absolute\"][metric], 2),\n",
      ");\n",
      "grid();\n",
      "ylabel(\"Matthews corr. coeff.\");\n",
      "legend([\"sztorc\", \"big-five\", \"fixed-variance\", \"absolute\"],\n",
      "       bbox_to_anchor=(-0.15, 1.35),\n",
      "       loc=\"upper left\",\n",
      "       ncol=4);\n",
      "\n",
      "subplot(222);\n",
      "metric = :correct;\n",
      "plot(\n",
      "    1:sim.TIMESTEPS, mean(track[\"sztorc\"][metric], 2),\n",
      "    1:sim.TIMESTEPS, mean(track[\"big-five\"][metric], 2),\n",
      "    1:sim.TIMESTEPS, mean(track[\"fixed-variance\"][metric], 2),\n",
      "    1:sim.TIMESTEPS, mean(track[\"absolute\"][metric], 2),\n",
      ");\n",
      "ax = gca();\n",
      "ax[:yaxis][:set_ticks_position](\"right\");\n",
      "ax[:set_xscale](\"log\");\n",
      "ylabel(\"correct answers\");\n",
      "grid();\n",
      "\n",
      "subplot(223);\n",
      "metric = :beats;\n",
      "plot(\n",
      "    1:sim.TIMESTEPS, mean(track[\"sztorc\"][metric], 2),\n",
      "    1:sim.TIMESTEPS, mean(track[\"big-five\"][metric], 2),\n",
      "    1:sim.TIMESTEPS, mean(track[\"fixed-variance\"][metric], 2),\n",
      "    1:sim.TIMESTEPS, mean(track[\"absolute\"][metric], 2),\n",
      ");\n",
      "ax = gca();\n",
      "ax[:set_xscale](\"log\");\n",
      "xlabel(\"reporting round\");\n",
      "ylabel(\"beats\");\n",
      "grid();\n",
      "\n",
      "subplot(224);\n",
      "metric = :liars_bonus;\n",
      "plot(\n",
      "    1:sim.TIMESTEPS, mean(track[\"sztorc\"][metric], 2),\n",
      "    1:sim.TIMESTEPS, mean(track[\"big-five\"][metric], 2),\n",
      "    1:sim.TIMESTEPS, mean(track[\"fixed-variance\"][metric], 2),\n",
      "    1:sim.TIMESTEPS, mean(track[\"absolute\"][metric], 2),\n",
      ");\n",
      "xlabel(\"reporting round\");\n",
      "ylabel(\"liars' bonus\");\n",
      "ax = gca();\n",
      "ax[:yaxis][:set_ticks_position](\"right\");\n",
      "ax[:set_xscale](\"log\");\n",
      "grid();\n",
      "\n",
      "fig[:canvas][:draw]();"
     ],
     "language": "python",
     "metadata": {},
     "outputs": []
    },
    {
     "cell_type": "code",
     "collapsed": false,
     "input": [
      "fig = figure();\n",
      "errorbar(timesteps, mean_rep_liars[\"sztorc\"], yerr=std_rep_liars[\"sztorc\"]);\n",
      "hold(\"on\");\n",
      "errorbar(timesteps, mean_rep_liars[\"big-five\"], yerr=std_rep_liars[\"big-five\"]);\n",
      "errorbar(timesteps, mean_rep_liars[\"fixed-variance\"], yerr=std_rep_liars[\"fixed-variance\"]);\n",
      "errorbar(timesteps, mean_rep_liars[\"absolute\"], yerr=std_rep_liars[\"absolute\"]);\n",
      "xlabel(\"time (# reporting rounds)\");\n",
      "ylabel(\"liars' reputation\");\n",
      "ax = gca();\n",
      "ax[:set_xscale](\"linear\");\n",
      "grid();\n",
      "legend([\"sztorc\", \"big-five\", \"fixed-variance\", \"absolute\"],\n",
      "       loc=\"center right\",\n",
      "       bbox_to_anchor=(1.4, 0.55),\n",
      "       ncol=1);\n",
      "fig[:canvas][:draw]();"
     ],
     "language": "python",
     "metadata": {},
     "outputs": []
    },
    {
     "cell_type": "code",
     "collapsed": false,
     "input": [],
     "language": "python",
     "metadata": {},
     "outputs": []
    },
    {
     "cell_type": "code",
     "collapsed": false,
     "input": [],
     "language": "python",
     "metadata": {},
     "outputs": []
    },
    {
     "cell_type": "code",
     "collapsed": false,
     "input": [],
     "language": "python",
     "metadata": {},
     "outputs": []
    },
    {
     "cell_type": "code",
     "collapsed": false,
     "input": [],
     "language": "python",
     "metadata": {},
     "outputs": []
    },
    {
     "cell_type": "code",
     "collapsed": false,
     "input": [],
     "language": "python",
     "metadata": {},
     "outputs": []
    },
    {
     "cell_type": "code",
     "collapsed": false,
     "input": [],
     "language": "python",
     "metadata": {},
     "outputs": []
    },
    {
     "cell_type": "code",
     "collapsed": false,
     "input": [],
     "language": "python",
     "metadata": {},
     "outputs": []
    },
    {
     "cell_type": "code",
     "collapsed": false,
     "input": [],
     "language": "python",
     "metadata": {},
     "outputs": []
    }
   ],
   "metadata": {}
  }
 ]
}